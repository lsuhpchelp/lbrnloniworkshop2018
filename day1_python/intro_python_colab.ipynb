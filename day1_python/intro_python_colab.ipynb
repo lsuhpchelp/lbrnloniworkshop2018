{
  "nbformat": 4,
  "nbformat_minor": 0,
  "metadata": {
    "colab": {
      "name": "intro-python-colab.ipynb",
      "version": "0.3.2",
      "provenance": [],
      "collapsed_sections": [
        "sYQs3O-6dHFb",
        "8sIJ4A57dHFk",
        "_73RPOcBdHFn",
        "h9s2tfPcdHFo",
        "zt4YHVYPdHGR"
      ],
      "include_colab_link": true
    },
    "language_info": {
      "codemirror_mode": {
        "name": "ipython",
        "version": 3
      },
      "file_extension": ".py",
      "mimetype": "text/x-python",
      "name": "python",
      "nbconvert_exporter": "python",
      "pygments_lexer": "ipython3",
      "version": "3.5.2"
    },
    "kernelspec": {
      "display_name": "Python 3",
      "language": "python",
      "name": "python3"
    }
  },
  "cells": [
    {
      "cell_type": "markdown",
      "metadata": {
        "id": "view-in-github",
        "colab_type": "text"
      },
      "source": [
        "<a href=\"https://colab.research.google.com/github/lsuhpchelp/lbrnloniworkshop2018/blob/master/day1_python/intro_python_colab.ipynb\" target=\"_parent\"><img src=\"https://colab.research.google.com/assets/colab-badge.svg\" alt=\"Open In Colab\"/></a>"
      ]
    },
    {
      "cell_type": "markdown",
      "metadata": {
        "id": "u1YDPNtbdHDj",
        "colab_type": "text"
      },
      "source": [
        "\n",
        " #  Python Programming\n",
        "##  Summer Workshop 2018 \n",
        "## LSU HPC & LONI\n"
      ]
    },
    {
      "cell_type": "markdown",
      "metadata": {
        "id": "3m1MNXK4dHDm",
        "colab_type": "text"
      },
      "source": [
        "<a id=\"top\"></a>\n",
        "## Steps to launch Jupyter notebook\n",
        "* ### Login to shelob \n",
        "<font color='red'> ssh userid@mike.hpc.lsu.edu </font>\n",
        "\n",
        "* ### clone the training materials\n",
        "<font color='red'>  git pull https://github.com/lsuhpchelp/lbrnloniworkshop2018.git </font>\n",
        "\n",
        "* ### Start an interactive session \n",
        "<font color='red'>  qsub -I -A hpc_train_2018 -l walltime=6:0:0 -l nodes=1:ppn=16 </font>\n",
        " \n",
        "* ### Go to the directory of day1_python\n",
        "<font color='red'> cd lbrnloni2018/lbrnloniworkshop2018/day1_python </font>\n",
        "\n",
        "* ### Lauch jupyter notebook  \n",
        "<font color='red'> jupyter-notebook --ip \\`hostname -a` --no-browser  </font>\n",
        "\n",
        "***"
      ]
    },
    {
      "cell_type": "markdown",
      "metadata": {
        "id": "VB--CYOSdHDm",
        "colab_type": "text"
      },
      "source": [
        "<a id='overview'></a>\n",
        "# Topics Covered\n",
        "<font color=blue>\n",
        " * [What is Python](#intro)\n",
        " * [Python programming basics](#data-type)\n",
        " * [Control structures and functions](#control)\n",
        " * [Python modules](#module)\n",
        " * [Numpy](#numpy)\n",
        " * [Plotting](#plot)</font>\n",
        "<br>"
      ]
    },
    {
      "cell_type": "markdown",
      "metadata": {
        "id": "ipgvJSsRdHDn",
        "colab_type": "text"
      },
      "source": [
        "<a id='intro'></a>\n",
        "## What is Python?\n",
        "\n",
        " * A general-purpose programming language (1980) by Guido van Rossum\n",
        " * Intuitive and minimal coding\n",
        " * Objected-Oriented\n",
        " * Interpreted not compiled\n",
        " * Interactive\n",
        " * Dynamically typed, no type declarations, data type is tracked at runtime\n",
        " * Automatic memory management\n",
        "  <br>"
      ]
    },
    {
      "cell_type": "markdown",
      "metadata": {
        "id": "Dm_ItPN0dHDo",
        "colab_type": "text"
      },
      "source": [
        "## What is IPython?\n",
        "\n",
        " IPython: an interactive command shell for Python (2001) by Fernando Perez\n",
        "* Enhanced Read-Eval-Print Loop (REPL) environment\n",
        "* Command tab-completion, color-highlighted error messages..\n",
        "* Basic Linux shell integration (cp, ls, rm…)\n",
        "* Great for plotting!\n",
        "* More information click _[ipython.org](http://ipython.org)_\n"
      ]
    },
    {
      "cell_type": "markdown",
      "metadata": {
        "id": "lWz4EJiZdHDo",
        "colab_type": "text"
      },
      "source": [
        "## Jupyter Notebook \n",
        "\n",
        "* Web interface to Python, introduced in 2015 \n",
        "* Rich text, improved graphical capabilities\n",
        "* Integrate many existing web libraries for data visualization\n",
        "* Allow to create and share documents that contain live code, equations, visualizations and explanatory text. \n",
        "* Interface with over 40 languages, such as R, Julia and Scala\n",
        "[back to top](#top)\n",
        "\n",
        "\n"
      ]
    },
    {
      "cell_type": "markdown",
      "metadata": {
        "id": "krWd44XodHDp",
        "colab_type": "text"
      },
      "source": [
        "## Variables \n",
        "\n",
        "* Variable type is dynamically determined from the value it is assigned, no data type is declared\n",
        "* Assign meaningful variable names\n",
        "* Some keywords are reserved such as ‘print’, ‘assert’,  ‘while’, ‘lambda’. \n",
        "* A variable is assigned using the ‘=’ operator \n",
        "* Reference of [keys words](https://docs.python.org/2.5/ref/keywords.html)\n"
      ]
    },
    {
      "cell_type": "markdown",
      "metadata": {
        "id": "R7DyZUcJdHDp",
        "colab_type": "text"
      },
      "source": [
        "## Operators \n",
        "\n",
        "* Arithmetic operators +, -, *, /, // (integer division for  floating point numbers), ’**’ power\n",
        "* Boolean operators and, or and not\n",
        "* Comparison operators >, <, >= (greater or equal), <=\n",
        "* (less or equal), == equality\n",
        "\n"
      ]
    },
    {
      "cell_type": "markdown",
      "metadata": {
        "id": "DqzfTKX_dHDq",
        "colab_type": "text"
      },
      "source": [
        "<a id='data-type'></a>\n",
        "## Build-in Data Types   \n",
        "<font color=blue>\n",
        "* [Number](#numbers)\n",
        "* [String](#string)\n",
        "* [List](#list)\n",
        "* [Tuple](#tuple)\n",
        "* [Dictionary](#dic)\n",
        "* [File](#file)    \n",
        " </font>\n",
        " [top](#top)"
      ]
    },
    {
      "cell_type": "markdown",
      "metadata": {
        "id": "KWM_ojx6dHDq",
        "colab_type": "text"
      },
      "source": [
        "<a id='numbers'></a>\n",
        "## Numbers"
      ]
    },
    {
      "cell_type": "code",
      "metadata": {
        "id": "_yOMyLthdHDr",
        "colab_type": "code",
        "outputId": "37cf38a6-5f0d-40fb-d140-017abf71c5f4",
        "colab": {
          "base_uri": "https://localhost:8080/",
          "height": 34
        }
      },
      "source": [
        "x = 3\n",
        "type(x)"
      ],
      "execution_count": 0,
      "outputs": [
        {
          "output_type": "execute_result",
          "data": {
            "text/plain": [
              "int"
            ]
          },
          "metadata": {
            "tags": []
          },
          "execution_count": 217
        }
      ]
    },
    {
      "cell_type": "code",
      "metadata": {
        "id": "R_hrkRhMdHDv",
        "colab_type": "code",
        "outputId": "97aad78c-7d72-4d3f-e03c-c07e82ff7048",
        "colab": {
          "base_uri": "https://localhost:8080/",
          "height": 34
        }
      },
      "source": [
        "y = 3.0\n",
        "type (y)"
      ],
      "execution_count": 0,
      "outputs": [
        {
          "output_type": "execute_result",
          "data": {
            "text/plain": [
              "float"
            ]
          },
          "metadata": {
            "tags": []
          },
          "execution_count": 218
        }
      ]
    },
    {
      "cell_type": "code",
      "metadata": {
        "id": "gbdT2LuGdHDx",
        "colab_type": "code",
        "outputId": "4f4f3214-3ce5-4d4c-f761-1b394c78c87f",
        "colab": {
          "base_uri": "https://localhost:8080/",
          "height": 34
        }
      },
      "source": [
        "z='hello'\n",
        "type(z)"
      ],
      "execution_count": 0,
      "outputs": [
        {
          "output_type": "execute_result",
          "data": {
            "text/plain": [
              "str"
            ]
          },
          "metadata": {
            "tags": []
          },
          "execution_count": 219
        }
      ]
    },
    {
      "cell_type": "code",
      "metadata": {
        "id": "EnO7Vu1QdHD0",
        "colab_type": "code",
        "outputId": "05ba2026-12b9-48bc-f237-a8341f53bf79",
        "colab": {
          "base_uri": "https://localhost:8080/",
          "height": 34
        }
      },
      "source": [
        "int(3.3)"
      ],
      "execution_count": 0,
      "outputs": [
        {
          "output_type": "execute_result",
          "data": {
            "text/plain": [
              "3"
            ]
          },
          "metadata": {
            "tags": []
          },
          "execution_count": 220
        }
      ]
    },
    {
      "cell_type": "code",
      "metadata": {
        "id": "fvDUy7nIdHD3",
        "colab_type": "code",
        "outputId": "4b20131b-755d-448d-9bee-d9cc6b5d0f2b",
        "colab": {
          "base_uri": "https://localhost:8080/",
          "height": 34
        }
      },
      "source": [
        "complex(3)"
      ],
      "execution_count": 0,
      "outputs": [
        {
          "output_type": "execute_result",
          "data": {
            "text/plain": [
              "(3+0j)"
            ]
          },
          "metadata": {
            "tags": []
          },
          "execution_count": 221
        }
      ]
    },
    {
      "cell_type": "code",
      "metadata": {
        "id": "ys2eoOtddHD6",
        "colab_type": "code",
        "colab": {}
      },
      "source": [
        "import math"
      ],
      "execution_count": 0,
      "outputs": []
    },
    {
      "cell_type": "code",
      "metadata": {
        "id": "EzSyMKwidHD8",
        "colab_type": "code",
        "outputId": "ff1527de-386f-4bd1-832e-ce3fd782c19a",
        "colab": {
          "base_uri": "https://localhost:8080/",
          "height": 34
        }
      },
      "source": [
        "abs(-3.3)"
      ],
      "execution_count": 0,
      "outputs": [
        {
          "output_type": "execute_result",
          "data": {
            "text/plain": [
              "3.3"
            ]
          },
          "metadata": {
            "tags": []
          },
          "execution_count": 223
        }
      ]
    },
    {
      "cell_type": "code",
      "metadata": {
        "id": "sqSaUXiwdHD-",
        "colab_type": "code",
        "outputId": "a1e638a1-bd63-4d9d-a8cf-7643df5e0e0e",
        "colab": {
          "base_uri": "https://localhost:8080/",
          "height": 34
        }
      },
      "source": [
        "math.sin(60)"
      ],
      "execution_count": 0,
      "outputs": [
        {
          "output_type": "execute_result",
          "data": {
            "text/plain": [
              "-0.3048106211022167"
            ]
          },
          "metadata": {
            "tags": []
          },
          "execution_count": 224
        }
      ]
    },
    {
      "cell_type": "code",
      "metadata": {
        "id": "ZAzv0ophdHEA",
        "colab_type": "code",
        "outputId": "324c7604-0e96-4ce4-f7fd-914c900c5162",
        "colab": {
          "base_uri": "https://localhost:8080/",
          "height": 34
        }
      },
      "source": [
        "math.sqrt(25)"
      ],
      "execution_count": 0,
      "outputs": [
        {
          "output_type": "execute_result",
          "data": {
            "text/plain": [
              "5.0"
            ]
          },
          "metadata": {
            "tags": []
          },
          "execution_count": 225
        }
      ]
    },
    {
      "cell_type": "markdown",
      "metadata": {
        "id": "_XDWU4R-dHED",
        "colab_type": "text"
      },
      "source": [
        "<a id='string'></a>\n",
        "## Strings"
      ]
    },
    {
      "cell_type": "code",
      "metadata": {
        "id": "lRqQ2KwHdHEE",
        "colab_type": "code",
        "colab": {}
      },
      "source": [
        "my_str = 'Hello World'"
      ],
      "execution_count": 0,
      "outputs": []
    },
    {
      "cell_type": "code",
      "metadata": {
        "id": "4R7QI39sdHEG",
        "colab_type": "code",
        "outputId": "e1cf19a8-46ea-4cf8-a90d-354fd6dd6fa9",
        "colab": {
          "base_uri": "https://localhost:8080/",
          "height": 50
        }
      },
      "source": [
        "print(my_str); len(my_str)"
      ],
      "execution_count": 0,
      "outputs": [
        {
          "output_type": "stream",
          "text": [
            "Hello World\n"
          ],
          "name": "stdout"
        },
        {
          "output_type": "execute_result",
          "data": {
            "text/plain": [
              "11"
            ]
          },
          "metadata": {
            "tags": []
          },
          "execution_count": 227
        }
      ]
    },
    {
      "cell_type": "code",
      "metadata": {
        "id": "W7x8SIXBdHEK",
        "colab_type": "code",
        "outputId": "0c5a1304-9935-4066-93d7-4b8387d85690",
        "colab": {
          "base_uri": "https://localhost:8080/",
          "height": 34
        }
      },
      "source": [
        "len(my_str); print(len(my_str))"
      ],
      "execution_count": 0,
      "outputs": [
        {
          "output_type": "stream",
          "text": [
            "11\n"
          ],
          "name": "stdout"
        }
      ]
    },
    {
      "cell_type": "code",
      "metadata": {
        "id": "4zQd6w2odHEN",
        "colab_type": "code",
        "outputId": "5e99acd8-fda3-4b2f-c3a3-406041c2cc55",
        "colab": {
          "base_uri": "https://localhost:8080/",
          "height": 67
        }
      },
      "source": [
        "#indexing starting at 0\n",
        "print(my_str[0]); print(my_str[1]); print(my_str[10])"
      ],
      "execution_count": 0,
      "outputs": [
        {
          "output_type": "stream",
          "text": [
            "H\n",
            "e\n",
            "d\n"
          ],
          "name": "stdout"
        }
      ]
    },
    {
      "cell_type": "code",
      "metadata": {
        "id": "sM7y1xrzdHEQ",
        "colab_type": "code",
        "outputId": "35e407d4-06f1-4a84-fd36-4d175852ccac",
        "colab": {
          "base_uri": "https://localhost:8080/",
          "height": 67
        }
      },
      "source": [
        "#string slicing\n",
        "print(my_str[1:4]); print(my_str[:]); print(my_str[1:])"
      ],
      "execution_count": 0,
      "outputs": [
        {
          "output_type": "stream",
          "text": [
            "ell\n",
            "Hello World\n",
            "ello World\n"
          ],
          "name": "stdout"
        }
      ]
    },
    {
      "cell_type": "code",
      "metadata": {
        "id": "jZ3WiHyQdHET",
        "colab_type": "code",
        "outputId": "cb3e1bef-1dc9-4084-99f9-30dc36708e3f",
        "colab": {
          "base_uri": "https://localhost:8080/",
          "height": 50
        }
      },
      "source": [
        "#string split\n",
        "s1, s2 = my_str.split(); print(s1); print(s2)"
      ],
      "execution_count": 0,
      "outputs": [
        {
          "output_type": "stream",
          "text": [
            "Hello\n",
            "World\n"
          ],
          "name": "stdout"
        }
      ]
    },
    {
      "cell_type": "code",
      "metadata": {
        "id": "TW0WIQredHEX",
        "colab_type": "code",
        "outputId": "6cf4a454-5446-47b8-89b9-72b1f8d037ac",
        "colab": {
          "base_uri": "https://localhost:8080/",
          "height": 67
        }
      },
      "source": [
        "#multiple line spanning\n",
        "multilines= \"\"\"This is a multi-line\n",
        "block of sample\n",
        " text\"\"\"\n",
        "print(multilines)\n"
      ],
      "execution_count": 0,
      "outputs": [
        {
          "output_type": "stream",
          "text": [
            "This is a multi-line\n",
            "block of sample\n",
            " text\n"
          ],
          "name": "stdout"
        }
      ]
    },
    {
      "cell_type": "code",
      "metadata": {
        "id": "-2c8QnMTdHEb",
        "colab_type": "code",
        "outputId": "3132199d-0498-4ff4-daeb-2f60776c0814",
        "colab": {
          "base_uri": "https://localhost:8080/",
          "height": 34
        }
      },
      "source": [
        "#string formatting\n",
        "text = \"%d pigs in the barn, I’ll %s and %s\" %(300,'huff','puff')\n",
        "print(text)"
      ],
      "execution_count": 0,
      "outputs": [
        {
          "output_type": "stream",
          "text": [
            "300 pigs in the barn, I’ll huff and puff\n"
          ],
          "name": "stdout"
        }
      ]
    },
    {
      "cell_type": "code",
      "metadata": {
        "id": "IhrNjeUHdHEd",
        "colab_type": "code",
        "outputId": "c6e6f09a-d407-4037-9fb1-0b65bd72b311",
        "colab": {
          "base_uri": "https://localhost:8080/",
          "height": 34
        }
      },
      "source": [
        "total= \"my share = %.5f, tip = %d\" %(24.5, 5.5)\n",
        "print(total)"
      ],
      "execution_count": 0,
      "outputs": [
        {
          "output_type": "stream",
          "text": [
            "my share = 24.50000, tip = 5\n"
          ],
          "name": "stdout"
        }
      ]
    },
    {
      "cell_type": "code",
      "metadata": {
        "id": "-ys2Eo35dHEf",
        "colab_type": "code",
        "outputId": "150416d6-a0c3-40ed-b919-ab7ddedf131f",
        "colab": {
          "base_uri": "https://localhost:8080/",
          "height": 84
        }
      },
      "source": [
        "#more string ops\n",
        "my_str=\"Hello World\"\n",
        "print(my_str.upper())\n",
        "print(my_str.isalpha())\n",
        "print(my_str[0].isalpha())\n",
        "a='12'\n",
        "print(a.isdigit())"
      ],
      "execution_count": 0,
      "outputs": [
        {
          "output_type": "stream",
          "text": [
            "HELLO WORLD\n",
            "False\n",
            "True\n",
            "True\n"
          ],
          "name": "stdout"
        }
      ]
    },
    {
      "cell_type": "markdown",
      "metadata": {
        "id": "_GSJRSDDdHEj",
        "colab_type": "text"
      },
      "source": [
        "<a id='list'></a>\n",
        "## Lists\n",
        "* Collection of data [ ]\n",
        "* Often used to store homogeneous values\n",
        "    * e.g., Numbers, names with the same data type\n",
        "* Members are accessed as strings\n",
        "* Mutable: modify in place without creating a new object\n"
      ]
    },
    {
      "cell_type": "code",
      "metadata": {
        "id": "kjuBDd2CdHEj",
        "colab_type": "code",
        "outputId": "89f9fda0-d6a4-414c-db49-e495d8020fe1",
        "colab": {
          "base_uri": "https://localhost:8080/",
          "height": 34
        }
      },
      "source": [
        "my_list = [1,2,9,4]\n",
        "print(my_list)\n",
        "#how to find out the data type?"
      ],
      "execution_count": 0,
      "outputs": [
        {
          "output_type": "stream",
          "text": [
            "[1, 2, 9, 4]\n"
          ],
          "name": "stdout"
        }
      ]
    },
    {
      "cell_type": "code",
      "metadata": {
        "id": "5RGeAbwqdHEm",
        "colab_type": "code",
        "outputId": "355d8ca1-1511-40d0-9f51-a5ffb954c6ee",
        "colab": {
          "base_uri": "https://localhost:8080/",
          "height": 34
        }
      },
      "source": [
        "my_list2 = list(range(-4,10, 4))\n",
        "print(my_list2)"
      ],
      "execution_count": 0,
      "outputs": [
        {
          "output_type": "stream",
          "text": [
            "[-4, 0, 4, 8]\n"
          ],
          "name": "stdout"
        }
      ]
    },
    {
      "cell_type": "code",
      "metadata": {
        "id": "o_Kpc9EjdHEp",
        "colab_type": "code",
        "outputId": "a98118e6-b04f-4478-a858-7b3c2a357e3d",
        "colab": {
          "base_uri": "https://localhost:8080/",
          "height": 50
        }
      },
      "source": [
        "# access list members by index \n",
        "# start at 0, end at n-1\n",
        "print(\"1st element =\", my_list[0])\n",
        "print(\"last element =\", my_list[3])"
      ],
      "execution_count": 0,
      "outputs": [
        {
          "output_type": "stream",
          "text": [
            "1st element = 1\n",
            "last element = 4\n"
          ],
          "name": "stdout"
        }
      ]
    },
    {
      "cell_type": "code",
      "metadata": {
        "id": "iEmUEwyYdHEr",
        "colab_type": "code",
        "outputId": "b6cdf17f-67af-4ec5-a76e-675f4b491c45",
        "colab": {
          "base_uri": "https://localhost:8080/",
          "height": 67
        }
      },
      "source": [
        "#Contatenate lists\n",
        "print(my_list + my_list)\n",
        "print(my_list *2)\n",
        "print(my_list *3)"
      ],
      "execution_count": 0,
      "outputs": [
        {
          "output_type": "stream",
          "text": [
            "[1, 2, 9, 4, 1, 2, 9, 4]\n",
            "[1, 2, 9, 4, 1, 2, 9, 4]\n",
            "[1, 2, 9, 4, 1, 2, 9, 4, 1, 2, 9, 4]\n"
          ],
          "name": "stdout"
        }
      ]
    },
    {
      "cell_type": "code",
      "metadata": {
        "id": "on_o62WTdHEt",
        "colab_type": "code",
        "outputId": "3d9357b0-14fe-409a-d1ed-05b3f045d7bf",
        "colab": {
          "base_uri": "https://localhost:8080/",
          "height": 67
        }
      },
      "source": [
        "# iterate list elements\n",
        "animals = ['dog','cat','horse']\n",
        "for name in animals:\n",
        "    print(name)"
      ],
      "execution_count": 0,
      "outputs": [
        {
          "output_type": "stream",
          "text": [
            "dog\n",
            "cat\n",
            "horse\n"
          ],
          "name": "stdout"
        }
      ]
    },
    {
      "cell_type": "code",
      "metadata": {
        "id": "iCKHMWDNdHEv",
        "colab_type": "code",
        "outputId": "5c7c12eb-4615-40a4-e57b-bbd2dcb6d83e",
        "colab": {
          "base_uri": "https://localhost:8080/",
          "height": 67
        }
      },
      "source": [
        "for index, name in enumerate(animals):\n",
        "    print(index+1, name)"
      ],
      "execution_count": 0,
      "outputs": [
        {
          "output_type": "stream",
          "text": [
            "1 dog\n",
            "2 cat\n",
            "3 horse\n"
          ],
          "name": "stdout"
        }
      ]
    },
    {
      "cell_type": "code",
      "metadata": {
        "id": "FJIrrjo4dHEx",
        "colab_type": "code",
        "outputId": "0e5ceeee-4dd9-43cc-a133-57d073d1aac3",
        "colab": {
          "base_uri": "https://localhost:8080/",
          "height": 67
        }
      },
      "source": [
        "# modify list\n",
        "del my_list[0]; print(my_list)\n",
        "my_list.append(99); print(my_list)\n",
        "my_list.insert(1, 100); print(my_list)"
      ],
      "execution_count": 0,
      "outputs": [
        {
          "output_type": "stream",
          "text": [
            "[2, 9, 4]\n",
            "[2, 9, 4, 99]\n",
            "[2, 100, 9, 4, 99]\n"
          ],
          "name": "stdout"
        }
      ]
    },
    {
      "cell_type": "code",
      "metadata": {
        "id": "Sbs8IVSfdHEy",
        "colab_type": "code",
        "outputId": "093b3e94-399b-41c6-a183-aa7e02afd6a5",
        "colab": {
          "base_uri": "https://localhost:8080/",
          "height": 50
        }
      },
      "source": [
        "#some list funs\n",
        "\n",
        "my_list.sort(); print(my_list)\n",
        "my_list.reverse(); print(my_list)"
      ],
      "execution_count": 0,
      "outputs": [
        {
          "output_type": "stream",
          "text": [
            "[2, 4, 9, 99, 100]\n",
            "[100, 99, 9, 4, 2]\n"
          ],
          "name": "stdout"
        }
      ]
    },
    {
      "cell_type": "code",
      "metadata": {
        "id": "NQUYj0__dHE1",
        "colab_type": "code",
        "outputId": "87ceb916-c857-4912-daf3-05d25096a440",
        "colab": {
          "base_uri": "https://localhost:8080/",
          "height": 67
        }
      },
      "source": [
        "#more sorting\n",
        "my_list = ['cats', 'SHEEP','DOGS','horses']\n",
        "print(sorted(my_list, key=len))\n",
        "print(sorted(my_list))\n",
        "print(sorted(my_list, reverse=True))"
      ],
      "execution_count": 0,
      "outputs": [
        {
          "output_type": "stream",
          "text": [
            "['cats', 'DOGS', 'SHEEP', 'horses']\n",
            "['DOGS', 'SHEEP', 'cats', 'horses']\n",
            "['horses', 'cats', 'SHEEP', 'DOGS']\n"
          ],
          "name": "stdout"
        }
      ]
    },
    {
      "cell_type": "code",
      "metadata": {
        "id": "U8d5KvgTdHE5",
        "colab_type": "code",
        "outputId": "97df7dc0-975c-4869-e6ac-1ca01e74e96a",
        "colab": {
          "base_uri": "https://localhost:8080/",
          "height": 34
        }
      },
      "source": [
        "sorted(my_list, key=len)"
      ],
      "execution_count": 0,
      "outputs": [
        {
          "output_type": "execute_result",
          "data": {
            "text/plain": [
              "['cats', 'DOGS', 'SHEEP', 'horses']"
            ]
          },
          "metadata": {
            "tags": []
          },
          "execution_count": 245
        }
      ]
    },
    {
      "cell_type": "code",
      "metadata": {
        "id": "RzRA23WMdHE7",
        "colab_type": "code",
        "outputId": "9af9cf34-8bd0-4192-faa7-36c33f1b6d90",
        "colab": {
          "base_uri": "https://localhost:8080/",
          "height": 34
        }
      },
      "source": [
        "# sort by lowercase\n",
        "sorted(my_list, key=str.lower)"
      ],
      "execution_count": 0,
      "outputs": [
        {
          "output_type": "execute_result",
          "data": {
            "text/plain": [
              "['cats', 'DOGS', 'horses', 'SHEEP']"
            ]
          },
          "metadata": {
            "tags": []
          },
          "execution_count": 246
        }
      ]
    },
    {
      "cell_type": "code",
      "metadata": {
        "id": "300FFfyxdHE9",
        "colab_type": "code",
        "outputId": "0b9d675e-6df7-402e-ffd1-058219205060",
        "colab": {
          "base_uri": "https://localhost:8080/",
          "height": 50
        }
      },
      "source": [
        "#list comprehension [expr for var in list]\n",
        "my_list=[2,5,9,1]\n",
        "square = [x**2 for x in my_list]; print(\"square =\", square)\n",
        "large = [n for n in my_list if n >= 5]; print('large =',large)"
      ],
      "execution_count": 0,
      "outputs": [
        {
          "output_type": "stream",
          "text": [
            "square = [4, 25, 81, 1]\n",
            "large = [5, 9]\n"
          ],
          "name": "stdout"
        }
      ]
    },
    {
      "cell_type": "markdown",
      "metadata": {
        "id": "SHQYeFQadHE_",
        "colab_type": "text"
      },
      "source": [
        "<a id='tuple'></a>\n",
        "## Tuples\n",
        "* Not immutable\n",
        "* Why Tuple?\n",
        "* Processed faster than lists\n",
        "* Sequence of a Tuple is protected\n",
        "* Sequence unpacking"
      ]
    },
    {
      "cell_type": "code",
      "metadata": {
        "id": "nlgKsOibdHE_",
        "colab_type": "code",
        "outputId": "67448a40-4c38-432a-fb69-fd9707813c99",
        "colab": {
          "base_uri": "https://localhost:8080/",
          "height": 50
        }
      },
      "source": [
        "my_tup = (2, 8, 3, 1)\n",
        "print(my_tup)\n",
        "a,b,c,d = my_tup\n",
        "print(a, b, c, d)\n"
      ],
      "execution_count": 0,
      "outputs": [
        {
          "output_type": "stream",
          "text": [
            "(2, 8, 3, 1)\n",
            "2 8 3 1\n"
          ],
          "name": "stdout"
        }
      ]
    },
    {
      "cell_type": "code",
      "metadata": {
        "id": "d85nI5mKdHFD",
        "colab_type": "code",
        "outputId": "11db8224-239d-409b-c34e-4e86a7a63f13",
        "colab": {
          "base_uri": "https://localhost:8080/",
          "height": 34
        }
      },
      "source": [
        "print(my_tup[0])"
      ],
      "execution_count": 0,
      "outputs": [
        {
          "output_type": "stream",
          "text": [
            "2\n"
          ],
          "name": "stdout"
        }
      ]
    },
    {
      "cell_type": "markdown",
      "metadata": {
        "id": "7NHEdgtwdHFG",
        "colab_type": "text"
      },
      "source": [
        "<a id='dic'></a>\n",
        "## Dictionaries\n",
        "* List of key-value pairs { }\n",
        "* Unordered collections of objects, not indexed\n",
        "* Store objects in a random order to provide faster lookup\n",
        "* Data type are heterogeneous, unlike list\n",
        "* Element are accessed by a keyword, not index\n",
        "* Elements are mutable \n",
        "* dict = {\"key1”: value1,  “key2”: value2} "
      ]
    },
    {
      "cell_type": "code",
      "metadata": {
        "id": "9gcG6o9NdHFG",
        "colab_type": "code",
        "outputId": "c212242d-3d1e-40e8-b3e7-1459ce552309",
        "colab": {
          "base_uri": "https://localhost:8080/",
          "height": 34
        }
      },
      "source": [
        "my_dict = {'cats': 4, 'dogs':2, 'sheep':3}\n",
        "print(my_dict)"
      ],
      "execution_count": 0,
      "outputs": [
        {
          "output_type": "stream",
          "text": [
            "{'cats': 4, 'dogs': 2, 'sheep': 3}\n"
          ],
          "name": "stdout"
        }
      ]
    },
    {
      "cell_type": "code",
      "metadata": {
        "id": "ObA5EWGWdHFL",
        "colab_type": "code",
        "outputId": "b0353d63-8b0c-45b8-8fe6-891e32cca3bd",
        "colab": {
          "base_uri": "https://localhost:8080/",
          "height": 34
        }
      },
      "source": [
        "print(my_dict[\"cats\"])"
      ],
      "execution_count": 0,
      "outputs": [
        {
          "output_type": "stream",
          "text": [
            "4\n"
          ],
          "name": "stdout"
        }
      ]
    },
    {
      "cell_type": "code",
      "metadata": {
        "id": "VNSCBGHSdHFN",
        "colab_type": "code",
        "outputId": "35a1ded9-d7cf-4775-ad38-f10f9fe32099",
        "colab": {
          "base_uri": "https://localhost:8080/",
          "height": 34
        }
      },
      "source": [
        "my_dict['horse'] = 3; print(sorted(my_dict))"
      ],
      "execution_count": 0,
      "outputs": [
        {
          "output_type": "stream",
          "text": [
            "['cats', 'dogs', 'horse', 'sheep']\n"
          ],
          "name": "stdout"
        }
      ]
    },
    {
      "cell_type": "code",
      "metadata": {
        "id": "sIfUBr5DdHFR",
        "colab_type": "code",
        "outputId": "b821cab8-ae2e-46c4-8d1f-1751cd92f96b",
        "colab": {
          "base_uri": "https://localhost:8080/",
          "height": 67
        }
      },
      "source": [
        "print(my_dict.keys()); print(my_dict.values())\n",
        "print(sorted(my_dict.values()))\n"
      ],
      "execution_count": 0,
      "outputs": [
        {
          "output_type": "stream",
          "text": [
            "dict_keys(['cats', 'dogs', 'sheep', 'horse'])\n",
            "dict_values([4, 2, 3, 3])\n",
            "[2, 3, 3, 4]\n"
          ],
          "name": "stdout"
        }
      ]
    },
    {
      "cell_type": "code",
      "metadata": {
        "id": "zsD9iVhudHFT",
        "colab_type": "code",
        "outputId": "a0e3b38e-7745-4b79-8af2-fb613753e753",
        "colab": {
          "base_uri": "https://localhost:8080/",
          "height": 84
        }
      },
      "source": [
        "for key, value in my_dict.items():\n",
        "    print(key, value)"
      ],
      "execution_count": 0,
      "outputs": [
        {
          "output_type": "stream",
          "text": [
            "cats 4\n",
            "dogs 2\n",
            "sheep 3\n",
            "horse 3\n"
          ],
          "name": "stdout"
        }
      ]
    },
    {
      "cell_type": "markdown",
      "metadata": {
        "id": "Rqz5LcVEdHFX",
        "colab_type": "text"
      },
      "source": [
        "<a id='file'></a>\n",
        "## Files\n",
        "* file open, close, read, write\n",
        "* file_handle = open(“file_name”, ‘mode’)\n",
        "    * Modes: \n",
        "    * a: append\n",
        "    * r: read only (error if not existing)\n",
        "    * w: write only\n",
        "    * r+: read/write (error if not existing)\n",
        "    * w+: read/write\n",
        "    * b: binary\n",
        "* Python has a built-in garbage collector\n",
        "* Object memory space is auto reclaimed once a file is no longer in use \n",
        "    "
      ]
    },
    {
      "cell_type": "code",
      "metadata": {
        "id": "Vyss2yB8ptAk",
        "colab_type": "code",
        "outputId": "3c9cd04c-c07b-4b4d-c680-e76a251d4963",
        "colab": {
          "base_uri": "https://localhost:8080/",
          "height": 34
        }
      },
      "source": [
        "! if [ ! -f \"data.txt\" ]; then wget 'https://raw.githubusercontent.com/lsuhpchelp/lbrnloniworkshop2018/master/day2_python/data.txt'; else echo 'file exists'; fi;"
      ],
      "execution_count": 0,
      "outputs": [
        {
          "output_type": "stream",
          "text": [
            "file exists\n"
          ],
          "name": "stdout"
        }
      ]
    },
    {
      "cell_type": "code",
      "metadata": {
        "id": "gV_4i_lqdHFX",
        "colab_type": "code",
        "outputId": "b19ba1a8-626b-425f-92f0-ba72f8de7bba",
        "colab": {
          "base_uri": "https://localhost:8080/",
          "height": 487
        }
      },
      "source": [
        "input = open('data.txt', 'r')\n",
        "content = input.read()\n",
        "input.close()\n",
        "print(content)"
      ],
      "execution_count": 0,
      "outputs": [
        {
          "output_type": "stream",
          "text": [
            "#  x01.txt\n",
            "#    Academic Press, 1991, page 304,\n",
            "#    ISBN 0-12-656460-4.\n",
            "#    There are 62 rows of data.  The 3 data columns include:\n",
            "#      I,  the index,\n",
            "#      A1, the brain weight;\n",
            "#      B,  the body weight.\n",
            "#    We seek a model of the form:\n",
            "#\n",
            "#      B = A1 * X1.\n",
            "#\n",
            "3 columns\n",
            "62 rows\n",
            "Index\n",
            "Brain Weight\n",
            "Body Weight\n",
            "# here is the training set\n",
            " 1     3.385    44.500 abjhk\n",
            " 2     0.480    33.38  bc_00asdk\n",
            " 3     1.350     8.100 fb\n",
            " 4   465.000   423.000 cer\n",
            " 5    36.330   119.500 rg\n",
            "# here is the cross validation set\n",
            " 6    27.660   115.000 rk\n",
            " 7    14.830    98.200 fff\n",
            " 8     1.040     5.500 zxs\n",
            " 9     4.190    58.000 kij\n",
            "\n"
          ],
          "name": "stdout"
        }
      ]
    },
    {
      "cell_type": "code",
      "metadata": {
        "id": "XhJGF4bRdHFZ",
        "colab_type": "code",
        "outputId": "7bcd643d-3f77-4196-c4df-71e6e559a281",
        "colab": {
          "base_uri": "https://localhost:8080/",
          "height": 168
        }
      },
      "source": [
        "#write to a file\n",
        "output = open('write.txt','w')\n",
        "output.write(\"Writing to a file\")\n",
        "output.close()\n",
        "!ls -l\n"
      ],
      "execution_count": 0,
      "outputs": [
        {
          "output_type": "stream",
          "text": [
            "total 104\n",
            "-rw-r--r-- 1 root root   630 May 13 14:39 data.txt\n",
            "-rw-r--r-- 1 root root   630 May 13 14:40 data.txt.1\n",
            "-rw-r--r-- 1 root root   128 May 13 14:49 random_m.csv\n",
            "drwxr-xr-x 3 root root  4096 May 13 13:56 raw.githubusercontent.com\n",
            "drwxr-xr-x 1 root root  4096 May  8 16:22 sample_data\n",
            "-rw-r--r-- 1 root root 72295 May 13 14:51 scan.png\n",
            "-rw-r--r-- 1 root root  7992 May 13 14:49 stock.dat\n",
            "-rw-r--r-- 1 root root    17 May 13 16:05 write.txt\n"
          ],
          "name": "stdout"
        }
      ]
    },
    {
      "cell_type": "markdown",
      "metadata": {
        "id": "sYQs3O-6dHFb",
        "colab_type": "text"
      },
      "source": [
        "<a id='control'></a>\n",
        "## Control Structures \n",
        "<font color=blue>\n",
        "* if-else\n",
        "* for loops, while loops\n",
        "* break: jump out of the current loop\n",
        "* continue: jump to the top of next cycle within the loop\n",
        "* pass: do nothing \n",
        "</font> \n",
        "[top](#top)"
      ]
    },
    {
      "cell_type": "code",
      "metadata": {
        "id": "827UT2CkdHFb",
        "colab_type": "code",
        "outputId": "46794a70-2bb2-4af6-d5fe-b858a25cd5cd",
        "colab": {
          "base_uri": "https://localhost:8080/",
          "height": 50
        }
      },
      "source": [
        "x = 500 #input(\"Please enter a number\")\n",
        "if ( x >= 5 ):\n",
        "  print(x,\"> 5\")\n",
        "  print(\"Hi, greater than 5\")\n",
        "else:\n",
        "    print(x, \"< 5\")\n",
        "    "
      ],
      "execution_count": 0,
      "outputs": [
        {
          "output_type": "stream",
          "text": [
            "500 > 5\n",
            "Hi, greater than 5\n"
          ],
          "name": "stdout"
        }
      ]
    },
    {
      "cell_type": "code",
      "metadata": {
        "id": "lpkNCkpFdHFd",
        "colab_type": "code",
        "outputId": "1aecdf79-2900-4c48-d258-f5b09f57233a",
        "colab": {
          "base_uri": "https://localhost:8080/",
          "height": 67
        }
      },
      "source": [
        "\n",
        "for num in range(3):\n",
        "    print(num)"
      ],
      "execution_count": 0,
      "outputs": [
        {
          "output_type": "stream",
          "text": [
            "0\n",
            "1\n",
            "2\n"
          ],
          "name": "stdout"
        }
      ]
    },
    {
      "cell_type": "code",
      "metadata": {
        "id": "5Uwjvz8ndHFf",
        "colab_type": "code",
        "outputId": "341b8ef9-16cb-4891-c0d2-65a824e5679e",
        "colab": {
          "base_uri": "https://localhost:8080/",
          "height": 50
        }
      },
      "source": [
        "index=0\n",
        "while (index < 3):\n",
        "    print(index)\n",
        "    index = index + 2"
      ],
      "execution_count": 0,
      "outputs": [
        {
          "output_type": "stream",
          "text": [
            "0\n",
            "2\n"
          ],
          "name": "stdout"
        }
      ]
    },
    {
      "cell_type": "markdown",
      "metadata": {
        "id": "kdPGwgCQdHFg",
        "colab_type": "text"
      },
      "source": [
        "<div class='alert alert-block alert-danger'>  Tip: <div>\n",
        "Indentation: signify code blocks  <div>"
      ]
    },
    {
      "cell_type": "code",
      "metadata": {
        "id": "ywVAPehHdHFh",
        "colab_type": "code",
        "outputId": "d2b9867b-57d1-479d-e229-b90620e67f34",
        "colab": {
          "base_uri": "https://localhost:8080/",
          "height": 185
        }
      },
      "source": [
        "#prime numbers\n",
        "n = 2\n",
        "while n < 10:\n",
        "    prime = True\n",
        "    for x in range(2,n):\n",
        "        if n % x == 0:\n",
        "            prime = False\n",
        "            break\n",
        "        if prime:\n",
        "            print(n, 'is a prime #')\n",
        "            pass\n",
        "        else:\n",
        "            n= n + 1\n",
        "            continu\n",
        "    n = n + 1"
      ],
      "execution_count": 0,
      "outputs": [
        {
          "output_type": "stream",
          "text": [
            "3 is a prime #\n",
            "5 is a prime #\n",
            "5 is a prime #\n",
            "5 is a prime #\n",
            "7 is a prime #\n",
            "7 is a prime #\n",
            "7 is a prime #\n",
            "7 is a prime #\n",
            "7 is a prime #\n",
            "9 is a prime #\n"
          ],
          "name": "stdout"
        }
      ]
    },
    {
      "cell_type": "markdown",
      "metadata": {
        "id": "8sIJ4A57dHFk",
        "colab_type": "text"
      },
      "source": [
        "<a id='module'> </a>\n",
        "## Functions\n",
        "def func_name(par1, par2,...): \n",
        "> body of code\n",
        " \n",
        " [top](#top)    \n",
        "    "
      ]
    },
    {
      "cell_type": "code",
      "metadata": {
        "id": "B5Hf5RZLdHFk",
        "colab_type": "code",
        "outputId": "858001de-7b48-4067-fbf8-852198f8d63f",
        "colab": {
          "base_uri": "https://localhost:8080/",
          "height": 34
        }
      },
      "source": [
        "#addition\n",
        "def my_add(x, y):\n",
        "    return x+y\n",
        "\n",
        "sum=my_add(3, 8); print(sum)"
      ],
      "execution_count": 0,
      "outputs": [
        {
          "output_type": "stream",
          "text": [
            "11\n"
          ],
          "name": "stdout"
        }
      ]
    },
    {
      "cell_type": "code",
      "metadata": {
        "id": "5lyjqDO4dHFm",
        "colab_type": "code",
        "outputId": "acae2138-c189-4ee3-d58c-4f3cf383659e",
        "colab": {
          "base_uri": "https://localhost:8080/",
          "height": 34
        }
      },
      "source": [
        "#return multiple values\n",
        "def power(input):\n",
        "    return input**2, input**3\n",
        "\n",
        "square, cube = power(3)\n",
        "print(\"squre =\",square, \"cube =\",cube)"
      ],
      "execution_count": 0,
      "outputs": [
        {
          "output_type": "stream",
          "text": [
            "squre = 9 cube = 27\n"
          ],
          "name": "stdout"
        }
      ]
    },
    {
      "cell_type": "markdown",
      "metadata": {
        "id": "_73RPOcBdHFn",
        "colab_type": "text"
      },
      "source": [
        "<a id='module'> </a>\n",
        "## Python Module\n",
        "* A python script with python functions and statements\n",
        "* Import a module before having access to all the functions within\n",
        "* Most Python distributions come with plenty of build-in modules \n",
        "***\n",
        " [top](#top)"
      ]
    },
    {
      "cell_type": "markdown",
      "metadata": {
        "id": "h9s2tfPcdHFo",
        "colab_type": "text"
      },
      "source": [
        "\n",
        "## Python Modules\n",
        "* math, sys, os..\n",
        "* NumPy, high performance in vector & matrix using vector computation \n",
        "* SciPy: based on Numpy, including many scientific algorithms.\n",
        "* padas\n",
        "* matplotlib, pyplot, pylab\n",
        "\n",
        "Reference to [Python3.x standard libraries](https://docs.python.org/3/library/) \n"
      ]
    },
    {
      "cell_type": "code",
      "metadata": {
        "id": "H9NB_NcNdHFo",
        "colab_type": "code",
        "outputId": "ad7492e1-c34b-4940-9dc4-81fe52df48cb",
        "colab": {
          "base_uri": "https://localhost:8080/",
          "height": 34
        }
      },
      "source": [
        "#import a module\n",
        "import math\n",
        "math.sin(math.pi)"
      ],
      "execution_count": 0,
      "outputs": [
        {
          "output_type": "execute_result",
          "data": {
            "text/plain": [
              "1.2246467991473532e-16"
            ]
          },
          "metadata": {
            "tags": []
          },
          "execution_count": 264
        }
      ]
    },
    {
      "cell_type": "code",
      "metadata": {
        "id": "LZkg2iD_dHFq",
        "colab_type": "code",
        "outputId": "2cb4bf8e-68ea-4a97-ac69-ee6689242f70",
        "colab": {
          "base_uri": "https://localhost:8080/",
          "height": 924
        }
      },
      "source": [
        "#get information of a module\n",
        "dir(math)"
      ],
      "execution_count": 0,
      "outputs": [
        {
          "output_type": "execute_result",
          "data": {
            "text/plain": [
              "['__doc__',\n",
              " '__loader__',\n",
              " '__name__',\n",
              " '__package__',\n",
              " '__spec__',\n",
              " 'acos',\n",
              " 'acosh',\n",
              " 'asin',\n",
              " 'asinh',\n",
              " 'atan',\n",
              " 'atan2',\n",
              " 'atanh',\n",
              " 'ceil',\n",
              " 'copysign',\n",
              " 'cos',\n",
              " 'cosh',\n",
              " 'degrees',\n",
              " 'e',\n",
              " 'erf',\n",
              " 'erfc',\n",
              " 'exp',\n",
              " 'expm1',\n",
              " 'fabs',\n",
              " 'factorial',\n",
              " 'floor',\n",
              " 'fmod',\n",
              " 'frexp',\n",
              " 'fsum',\n",
              " 'gamma',\n",
              " 'gcd',\n",
              " 'hypot',\n",
              " 'inf',\n",
              " 'isclose',\n",
              " 'isfinite',\n",
              " 'isinf',\n",
              " 'isnan',\n",
              " 'ldexp',\n",
              " 'lgamma',\n",
              " 'log',\n",
              " 'log10',\n",
              " 'log1p',\n",
              " 'log2',\n",
              " 'modf',\n",
              " 'nan',\n",
              " 'pi',\n",
              " 'pow',\n",
              " 'radians',\n",
              " 'sin',\n",
              " 'sinh',\n",
              " 'sqrt',\n",
              " 'tan',\n",
              " 'tanh',\n",
              " 'tau',\n",
              " 'trunc']"
            ]
          },
          "metadata": {
            "tags": []
          },
          "execution_count": 265
        }
      ]
    },
    {
      "cell_type": "code",
      "metadata": {
        "id": "m2CnZMlldHFs",
        "colab_type": "code",
        "outputId": "94d01b33-0cc4-423f-c5ae-37be6777137e",
        "colab": {
          "base_uri": "https://localhost:8080/",
          "height": 4519
        }
      },
      "source": [
        "#get information\n",
        "help(math)"
      ],
      "execution_count": 0,
      "outputs": [
        {
          "output_type": "stream",
          "text": [
            "Help on built-in module math:\n",
            "\n",
            "NAME\n",
            "    math\n",
            "\n",
            "DESCRIPTION\n",
            "    This module is always available.  It provides access to the\n",
            "    mathematical functions defined by the C standard.\n",
            "\n",
            "FUNCTIONS\n",
            "    acos(...)\n",
            "        acos(x)\n",
            "        \n",
            "        Return the arc cosine (measured in radians) of x.\n",
            "    \n",
            "    acosh(...)\n",
            "        acosh(x)\n",
            "        \n",
            "        Return the inverse hyperbolic cosine of x.\n",
            "    \n",
            "    asin(...)\n",
            "        asin(x)\n",
            "        \n",
            "        Return the arc sine (measured in radians) of x.\n",
            "    \n",
            "    asinh(...)\n",
            "        asinh(x)\n",
            "        \n",
            "        Return the inverse hyperbolic sine of x.\n",
            "    \n",
            "    atan(...)\n",
            "        atan(x)\n",
            "        \n",
            "        Return the arc tangent (measured in radians) of x.\n",
            "    \n",
            "    atan2(...)\n",
            "        atan2(y, x)\n",
            "        \n",
            "        Return the arc tangent (measured in radians) of y/x.\n",
            "        Unlike atan(y/x), the signs of both x and y are considered.\n",
            "    \n",
            "    atanh(...)\n",
            "        atanh(x)\n",
            "        \n",
            "        Return the inverse hyperbolic tangent of x.\n",
            "    \n",
            "    ceil(...)\n",
            "        ceil(x)\n",
            "        \n",
            "        Return the ceiling of x as an Integral.\n",
            "        This is the smallest integer >= x.\n",
            "    \n",
            "    copysign(...)\n",
            "        copysign(x, y)\n",
            "        \n",
            "        Return a float with the magnitude (absolute value) of x but the sign \n",
            "        of y. On platforms that support signed zeros, copysign(1.0, -0.0) \n",
            "        returns -1.0.\n",
            "    \n",
            "    cos(...)\n",
            "        cos(x)\n",
            "        \n",
            "        Return the cosine of x (measured in radians).\n",
            "    \n",
            "    cosh(...)\n",
            "        cosh(x)\n",
            "        \n",
            "        Return the hyperbolic cosine of x.\n",
            "    \n",
            "    degrees(...)\n",
            "        degrees(x)\n",
            "        \n",
            "        Convert angle x from radians to degrees.\n",
            "    \n",
            "    erf(...)\n",
            "        erf(x)\n",
            "        \n",
            "        Error function at x.\n",
            "    \n",
            "    erfc(...)\n",
            "        erfc(x)\n",
            "        \n",
            "        Complementary error function at x.\n",
            "    \n",
            "    exp(...)\n",
            "        exp(x)\n",
            "        \n",
            "        Return e raised to the power of x.\n",
            "    \n",
            "    expm1(...)\n",
            "        expm1(x)\n",
            "        \n",
            "        Return exp(x)-1.\n",
            "        This function avoids the loss of precision involved in the direct evaluation of exp(x)-1 for small x.\n",
            "    \n",
            "    fabs(...)\n",
            "        fabs(x)\n",
            "        \n",
            "        Return the absolute value of the float x.\n",
            "    \n",
            "    factorial(...)\n",
            "        factorial(x) -> Integral\n",
            "        \n",
            "        Find x!. Raise a ValueError if x is negative or non-integral.\n",
            "    \n",
            "    floor(...)\n",
            "        floor(x)\n",
            "        \n",
            "        Return the floor of x as an Integral.\n",
            "        This is the largest integer <= x.\n",
            "    \n",
            "    fmod(...)\n",
            "        fmod(x, y)\n",
            "        \n",
            "        Return fmod(x, y), according to platform C.  x % y may differ.\n",
            "    \n",
            "    frexp(...)\n",
            "        frexp(x)\n",
            "        \n",
            "        Return the mantissa and exponent of x, as pair (m, e).\n",
            "        m is a float and e is an int, such that x = m * 2.**e.\n",
            "        If x is 0, m and e are both 0.  Else 0.5 <= abs(m) < 1.0.\n",
            "    \n",
            "    fsum(...)\n",
            "        fsum(iterable)\n",
            "        \n",
            "        Return an accurate floating point sum of values in the iterable.\n",
            "        Assumes IEEE-754 floating point arithmetic.\n",
            "    \n",
            "    gamma(...)\n",
            "        gamma(x)\n",
            "        \n",
            "        Gamma function at x.\n",
            "    \n",
            "    gcd(...)\n",
            "        gcd(x, y) -> int\n",
            "        greatest common divisor of x and y\n",
            "    \n",
            "    hypot(...)\n",
            "        hypot(x, y)\n",
            "        \n",
            "        Return the Euclidean distance, sqrt(x*x + y*y).\n",
            "    \n",
            "    isclose(...)\n",
            "        isclose(a, b, *, rel_tol=1e-09, abs_tol=0.0) -> bool\n",
            "        \n",
            "        Determine whether two floating point numbers are close in value.\n",
            "        \n",
            "           rel_tol\n",
            "               maximum difference for being considered \"close\", relative to the\n",
            "               magnitude of the input values\n",
            "            abs_tol\n",
            "               maximum difference for being considered \"close\", regardless of the\n",
            "               magnitude of the input values\n",
            "        \n",
            "        Return True if a is close in value to b, and False otherwise.\n",
            "        \n",
            "        For the values to be considered close, the difference between them\n",
            "        must be smaller than at least one of the tolerances.\n",
            "        \n",
            "        -inf, inf and NaN behave similarly to the IEEE 754 Standard.  That\n",
            "        is, NaN is not close to anything, even itself.  inf and -inf are\n",
            "        only close to themselves.\n",
            "    \n",
            "    isfinite(...)\n",
            "        isfinite(x) -> bool\n",
            "        \n",
            "        Return True if x is neither an infinity nor a NaN, and False otherwise.\n",
            "    \n",
            "    isinf(...)\n",
            "        isinf(x) -> bool\n",
            "        \n",
            "        Return True if x is a positive or negative infinity, and False otherwise.\n",
            "    \n",
            "    isnan(...)\n",
            "        isnan(x) -> bool\n",
            "        \n",
            "        Return True if x is a NaN (not a number), and False otherwise.\n",
            "    \n",
            "    ldexp(...)\n",
            "        ldexp(x, i)\n",
            "        \n",
            "        Return x * (2**i).\n",
            "    \n",
            "    lgamma(...)\n",
            "        lgamma(x)\n",
            "        \n",
            "        Natural logarithm of absolute value of Gamma function at x.\n",
            "    \n",
            "    log(...)\n",
            "        log(x[, base])\n",
            "        \n",
            "        Return the logarithm of x to the given base.\n",
            "        If the base not specified, returns the natural logarithm (base e) of x.\n",
            "    \n",
            "    log10(...)\n",
            "        log10(x)\n",
            "        \n",
            "        Return the base 10 logarithm of x.\n",
            "    \n",
            "    log1p(...)\n",
            "        log1p(x)\n",
            "        \n",
            "        Return the natural logarithm of 1+x (base e).\n",
            "        The result is computed in a way which is accurate for x near zero.\n",
            "    \n",
            "    log2(...)\n",
            "        log2(x)\n",
            "        \n",
            "        Return the base 2 logarithm of x.\n",
            "    \n",
            "    modf(...)\n",
            "        modf(x)\n",
            "        \n",
            "        Return the fractional and integer parts of x.  Both results carry the sign\n",
            "        of x and are floats.\n",
            "    \n",
            "    pow(...)\n",
            "        pow(x, y)\n",
            "        \n",
            "        Return x**y (x to the power of y).\n",
            "    \n",
            "    radians(...)\n",
            "        radians(x)\n",
            "        \n",
            "        Convert angle x from degrees to radians.\n",
            "    \n",
            "    sin(...)\n",
            "        sin(x)\n",
            "        \n",
            "        Return the sine of x (measured in radians).\n",
            "    \n",
            "    sinh(...)\n",
            "        sinh(x)\n",
            "        \n",
            "        Return the hyperbolic sine of x.\n",
            "    \n",
            "    sqrt(...)\n",
            "        sqrt(x)\n",
            "        \n",
            "        Return the square root of x.\n",
            "    \n",
            "    tan(...)\n",
            "        tan(x)\n",
            "        \n",
            "        Return the tangent of x (measured in radians).\n",
            "    \n",
            "    tanh(...)\n",
            "        tanh(x)\n",
            "        \n",
            "        Return the hyperbolic tangent of x.\n",
            "    \n",
            "    trunc(...)\n",
            "        trunc(x:Real) -> Integral\n",
            "        \n",
            "        Truncates x to the nearest Integral toward 0. Uses the __trunc__ magic method.\n",
            "\n",
            "DATA\n",
            "    e = 2.718281828459045\n",
            "    inf = inf\n",
            "    nan = nan\n",
            "    pi = 3.141592653589793\n",
            "    tau = 6.283185307179586\n",
            "\n",
            "FILE\n",
            "    (built-in)\n",
            "\n",
            "\n"
          ],
          "name": "stdout"
        }
      ]
    },
    {
      "cell_type": "code",
      "metadata": {
        "raw_mimetype": "text/x-python",
        "id": "fL7e1I0IdHFt",
        "colab_type": "code",
        "outputId": "ef9ff1a6-bd04-4db6-e2bf-544e3dbd4509",
        "colab": {
          "base_uri": "https://localhost:8080/",
          "height": 1378
        }
      },
      "source": [
        "# get information of a module function \n",
        "help(range)"
      ],
      "execution_count": 0,
      "outputs": [
        {
          "output_type": "stream",
          "text": [
            "Help on class range in module builtins:\n",
            "\n",
            "class range(object)\n",
            " |  range(stop) -> range object\n",
            " |  range(start, stop[, step]) -> range object\n",
            " |  \n",
            " |  Return an object that produces a sequence of integers from start (inclusive)\n",
            " |  to stop (exclusive) by step.  range(i, j) produces i, i+1, i+2, ..., j-1.\n",
            " |  start defaults to 0, and stop is omitted!  range(4) produces 0, 1, 2, 3.\n",
            " |  These are exactly the valid indices for a list of 4 elements.\n",
            " |  When step is given, it specifies the increment (or decrement).\n",
            " |  \n",
            " |  Methods defined here:\n",
            " |  \n",
            " |  __bool__(self, /)\n",
            " |      self != 0\n",
            " |  \n",
            " |  __contains__(self, key, /)\n",
            " |      Return key in self.\n",
            " |  \n",
            " |  __eq__(self, value, /)\n",
            " |      Return self==value.\n",
            " |  \n",
            " |  __ge__(self, value, /)\n",
            " |      Return self>=value.\n",
            " |  \n",
            " |  __getattribute__(self, name, /)\n",
            " |      Return getattr(self, name).\n",
            " |  \n",
            " |  __getitem__(self, key, /)\n",
            " |      Return self[key].\n",
            " |  \n",
            " |  __gt__(self, value, /)\n",
            " |      Return self>value.\n",
            " |  \n",
            " |  __hash__(self, /)\n",
            " |      Return hash(self).\n",
            " |  \n",
            " |  __iter__(self, /)\n",
            " |      Implement iter(self).\n",
            " |  \n",
            " |  __le__(self, value, /)\n",
            " |      Return self<=value.\n",
            " |  \n",
            " |  __len__(self, /)\n",
            " |      Return len(self).\n",
            " |  \n",
            " |  __lt__(self, value, /)\n",
            " |      Return self<value.\n",
            " |  \n",
            " |  __ne__(self, value, /)\n",
            " |      Return self!=value.\n",
            " |  \n",
            " |  __new__(*args, **kwargs) from builtins.type\n",
            " |      Create and return a new object.  See help(type) for accurate signature.\n",
            " |  \n",
            " |  __reduce__(...)\n",
            " |      helper for pickle\n",
            " |  \n",
            " |  __repr__(self, /)\n",
            " |      Return repr(self).\n",
            " |  \n",
            " |  __reversed__(...)\n",
            " |      Return a reverse iterator.\n",
            " |  \n",
            " |  count(...)\n",
            " |      rangeobject.count(value) -> integer -- return number of occurrences of value\n",
            " |  \n",
            " |  index(...)\n",
            " |      rangeobject.index(value, [start, [stop]]) -> integer -- return index of value.\n",
            " |      Raise ValueError if the value is not present.\n",
            " |  \n",
            " |  ----------------------------------------------------------------------\n",
            " |  Data descriptors defined here:\n",
            " |  \n",
            " |  start\n",
            " |  \n",
            " |  step\n",
            " |  \n",
            " |  stop\n",
            "\n"
          ],
          "name": "stdout"
        }
      ]
    },
    {
      "cell_type": "markdown",
      "metadata": {
        "id": "vrDWNnt-dHFv",
        "colab_type": "text"
      },
      "source": [
        " * Examples using os, commands modules\n",
        " * os: includes many functions interacting with the file system \n"
      ]
    },
    {
      "cell_type": "code",
      "metadata": {
        "id": "PVaDavH4dHFv",
        "colab_type": "code",
        "outputId": "dfbe6b68-10e3-461b-9173-d98a17f18e65",
        "colab": {
          "base_uri": "https://localhost:8080/",
          "height": 50
        }
      },
      "source": [
        "import os\n",
        "def display_dir(dir):\n",
        "      files = os.listdir(dir)\n",
        "      for fname in files:\n",
        "        print(fname)\n",
        "        print(os.path.abspath(os.path.join(dir, fname))) \n",
        "\n",
        "display_dir('/tmp')"
      ],
      "execution_count": 0,
      "outputs": [
        {
          "output_type": "stream",
          "text": [
            "RtmpRzTe4d\n",
            "/tmp/RtmpRzTe4d\n"
          ],
          "name": "stdout"
        }
      ]
    },
    {
      "cell_type": "markdown",
      "metadata": {
        "id": "jd3uWCCGdHFx",
        "colab_type": "text"
      },
      "source": [
        "<a id='numpy'> </a>\n",
        "## Numpy\n",
        "* [Create arrays](#array)\n",
        "* [Properties](#prop)\n",
        "* [File I/O](#file)\n",
        "* [Operations](#op)\n",
        "\n",
        " [top](#top)\n",
        " [next](#plot)"
      ]
    },
    {
      "cell_type": "markdown",
      "metadata": {
        "id": "btalKI3RdHFy",
        "colab_type": "text"
      },
      "source": [
        "* Provide basic functions for large arrays and matrices\n",
        "* A Python library that provides a multidimensional array object\n",
        "* Fast operations on arrays\n",
        "  * mathematical, logical, shape manipulation \n",
        "  * sorting, selecting, I/O\n",
        "  * discrete Fourier transforms, basic linear algebra\n",
        "  * basic statistical operations\n",
        "  * random simulation and much more."
      ]
    },
    {
      "cell_type": "code",
      "metadata": {
        "id": "oTb2mKe4dHFy",
        "colab_type": "code",
        "outputId": "6d9c6cfd-5f26-4e08-90dd-bccfa06d51f7",
        "colab": {
          "base_uri": "https://localhost:8080/",
          "height": 151
        }
      },
      "source": [
        "import numpy as np\n",
        "a = np.array([4,5,6,7])\n",
        "b = np.array(range(-1, 3, 1))\n",
        "print(\"a\",a)\n",
        "print(\"b\",b)\n",
        "print(\"a+b\", a+b)\n",
        "print('a*b', a*b)\n",
        "for i in range(4):\n",
        "    print(i)\n",
        "    "
      ],
      "execution_count": 0,
      "outputs": [
        {
          "output_type": "stream",
          "text": [
            "a [4 5 6 7]\n",
            "b [-1  0  1  2]\n",
            "a+b [3 5 7 9]\n",
            "a*b [-4  0  6 14]\n",
            "0\n",
            "1\n",
            "2\n",
            "3\n"
          ],
          "name": "stdout"
        }
      ]
    },
    {
      "cell_type": "markdown",
      "metadata": {
        "id": "q71kHDnrdHF0",
        "colab_type": "text"
      },
      "source": [
        "<a id='array'></a>\n",
        "### Create Arrays"
      ]
    },
    {
      "cell_type": "code",
      "metadata": {
        "id": "ZuaDaza0dHF0",
        "colab_type": "code",
        "outputId": "c89f1755-3fcd-4196-e4b7-850c48b66124",
        "colab": {
          "base_uri": "https://localhost:8080/",
          "height": 286
        }
      },
      "source": [
        "# create array from a list\n",
        "a = np.array([2,3,4]); print('a', a)\n",
        "\n",
        "# arange [start, stop, interval, datatype]\n",
        "b=np.arange(4, 10.0, 2, np.int64); print(\"arange\",b)\n",
        "\n",
        "# linspace including both ends {start, stop, num=50, endpoint=True}\n",
        "c=np.linspace(1,5, 10); print('linspace',c)\n",
        "\n",
        "# create array on log scale {start, stop, num=50, endpoint=True, base=10}\n",
        "d=np.logspace(1,100, 5, base=2); print('logspace',d)\n",
        "\n",
        "# create a square array with ones on the main diagonal\n",
        "y=np.identity(4); print(y)\n",
        "\n",
        "\n",
        "# Initialize w/ 0s or 1s\n",
        "c = np.zeros((2,3)); print(\"c\",c)\n",
        "d = np.ones((2, 5)); print(\"d\", d); \n",
        "a.fill(0); print(a)\n",
        "a[:] = 1; print(a)\n",
        "\n"
      ],
      "execution_count": 0,
      "outputs": [
        {
          "output_type": "stream",
          "text": [
            "a [2 3 4]\n",
            "arange [4 6 8]\n",
            "linspace [1.         1.44444444 1.88888889 2.33333333 2.77777778 3.22222222\n",
            " 3.66666667 4.11111111 4.55555556 5.        ]\n",
            "logspace [2.00000000e+00 5.64316032e+07 1.59226292e+15 4.49269746e+22\n",
            " 1.26765060e+30]\n",
            "[[1. 0. 0. 0.]\n",
            " [0. 1. 0. 0.]\n",
            " [0. 0. 1. 0.]\n",
            " [0. 0. 0. 1.]]\n",
            "c [[0. 0. 0.]\n",
            " [0. 0. 0.]]\n",
            "d [[1. 1. 1. 1. 1.]\n",
            " [1. 1. 1. 1. 1.]]\n",
            "[0 0 0]\n",
            "[1 1 1]\n"
          ],
          "name": "stdout"
        }
      ]
    },
    {
      "cell_type": "code",
      "metadata": {
        "id": "v7pDTUBodHF1",
        "colab_type": "code",
        "outputId": "3a26cd2f-0aee-4449-b1bf-0ac0c27a397c",
        "colab": {
          "base_uri": "https://localhost:8080/",
          "height": 50
        }
      },
      "source": [
        "np.mgrid[0:5, 0:7]\n",
        "print(a); print(b)"
      ],
      "execution_count": 0,
      "outputs": [
        {
          "output_type": "stream",
          "text": [
            "[1 1 1]\n",
            "[4 6 8]\n"
          ],
          "name": "stdout"
        }
      ]
    },
    {
      "cell_type": "markdown",
      "metadata": {
        "id": "vK0mnkVudHF2",
        "colab_type": "text"
      },
      "source": [
        "<a id='prop'></a>\n",
        "### Numpy array properties"
      ]
    },
    {
      "cell_type": "code",
      "metadata": {
        "id": "zhfKNCtBdHF2",
        "colab_type": "code",
        "outputId": "bf7c3d76-d8fd-4618-f29c-270fd1665ec3",
        "colab": {
          "base_uri": "https://localhost:8080/",
          "height": 101
        }
      },
      "source": [
        "# numpy array properties\n",
        "print(a.dtype); print(a)\n",
        "print(a.shape)  # dimensions\n",
        "print(a.size)   # number of elements\n",
        "print(a.ndim)   # number of dimensions\n"
      ],
      "execution_count": 0,
      "outputs": [
        {
          "output_type": "stream",
          "text": [
            "int64\n",
            "[1 1 1]\n",
            "(3,)\n",
            "3\n",
            "1\n"
          ],
          "name": "stdout"
        }
      ]
    },
    {
      "cell_type": "markdown",
      "metadata": {
        "id": "ZvBiwmpfdHF3",
        "colab_type": "text"
      },
      "source": [
        "<a id='file'></a>\n",
        "### Numpy File I/O"
      ]
    },
    {
      "cell_type": "code",
      "metadata": {
        "id": "TS_VnKbEqVdc",
        "colab_type": "code",
        "outputId": "8f662093-21fe-4afc-c9d9-3084eefe1dfe",
        "colab": {
          "base_uri": "https://localhost:8080/",
          "height": 34
        }
      },
      "source": [
        "! if [ ! -f \"stock.dat\" ]; then wget 'https://raw.githubusercontent.com/lsuhpchelp/lbrnloniworkshop2018/master/day1_python/stock.dat'; else echo 'file exists'; fi;"
      ],
      "execution_count": 0,
      "outputs": [
        {
          "output_type": "stream",
          "text": [
            "file exists\n"
          ],
          "name": "stdout"
        }
      ]
    },
    {
      "cell_type": "code",
      "metadata": {
        "id": "pKOxnldFdHF4",
        "colab_type": "code",
        "outputId": "dc9d32c9-3d2f-4fdc-e395-6772a9a3e7f5",
        "colab": {
          "base_uri": "https://localhost:8080/",
          "height": 185
        }
      },
      "source": [
        "# comma-separated values (CSV), or related format such as TSV (tab-separated values)\n",
        "# read data into Numpy arrays using genfromtxt\n",
        "import numpy as np\n",
        "!head stock.dat\n",
        "data=np.genfromtxt('stock.dat', delimiter=','); \n",
        "#np.load('stock.dat')\n"
      ],
      "execution_count": 0,
      "outputs": [
        {
          "output_type": "stream",
          "text": [
            "1800  1  1    -6.1    -6.1    -6.1 1\n",
            "1800  1  2   -15.4   -15.4   -15.4 1\n",
            "1800  1  3   -15.0   -15.0   -15.0 1\n",
            "1800  1  4   -19.3   -19.3   -19.3 1\n",
            "1800  1  5   -16.8   -16.8   -16.8 1\n",
            "1800  1  6   -11.4   -11.4   -11.4 1\n",
            "1800  1  7    -7.6    -7.6    -7.6 1\n",
            "1800  1  8    -7.1    -7.1    -7.1 1\n",
            "1800  1  9   -10.1   -10.1   -10.1 1\n",
            "1800  1 10    -9.5    -9.5    -9.5 1\n"
          ],
          "name": "stdout"
        }
      ]
    },
    {
      "cell_type": "code",
      "metadata": {
        "id": "st5elCfgdHF5",
        "colab_type": "code",
        "outputId": "54b2249d-bd5c-4a33-9b5d-13654e0aad41",
        "colab": {
          "base_uri": "https://localhost:8080/",
          "height": 151
        }
      },
      "source": [
        "#store and save arrays into a file\n",
        "m = np.random.rand(4,4); print(m)\n",
        "np.savetxt('random_m.csv', m, fmt='%.5f')\n",
        "!cat random_m.csv"
      ],
      "execution_count": 0,
      "outputs": [
        {
          "output_type": "stream",
          "text": [
            "[[0.99658507 0.92216946 0.0271077  0.54981952]\n",
            " [0.2511663  0.6102634  0.07445462 0.34469954]\n",
            " [0.5719348  0.6438505  0.14082897 0.28713641]\n",
            " [0.63128761 0.17186277 0.23330245 0.3026652 ]]\n",
            "0.99659 0.92217 0.02711 0.54982\n",
            "0.25117 0.61026 0.07445 0.34470\n",
            "0.57193 0.64385 0.14083 0.28714\n",
            "0.63129 0.17186 0.23330 0.30267\n"
          ],
          "name": "stdout"
        }
      ]
    },
    {
      "cell_type": "code",
      "metadata": {
        "id": "BIb5j1fwdHF8",
        "colab_type": "code",
        "outputId": "a272e861-913c-4093-8e06-ca16b239b274",
        "colab": {
          "base_uri": "https://localhost:8080/",
          "height": 101
        }
      },
      "source": [
        "#!cat intpython/data.txt\n",
        "data2=np.genfromtxt('data.txt', skip_header=16, dtype=None, encoding=None)\n",
        "print(data2)\n",
        "#help(np.genfromtxt)"
      ],
      "execution_count": 0,
      "outputs": [
        {
          "output_type": "stream",
          "text": [
            "[(1,   3.385,  44.5 , 'abjhk') (2,   0.48 ,  33.38, 'bc_00asdk')\n",
            " (3,   1.35 ,   8.1 , 'fb') (4, 465.   , 423.  , 'cer')\n",
            " (5,  36.33 , 119.5 , 'rg') (6,  27.66 , 115.  , 'rk')\n",
            " (7,  14.83 ,  98.2 , 'fff') (8,   1.04 ,   5.5 , 'zxs')\n",
            " (9,   4.19 ,  58.  , 'kij')]\n"
          ],
          "name": "stdout"
        }
      ]
    },
    {
      "cell_type": "code",
      "metadata": {
        "id": "TmBCEJsddHF-",
        "colab_type": "code",
        "colab": {}
      },
      "source": [
        "data2=np.loadtxt('data.txt', skiprows=16, usecols={0,1,2}, comments='#', dtype=None)\n"
      ],
      "execution_count": 0,
      "outputs": []
    },
    {
      "cell_type": "markdown",
      "metadata": {
        "id": "lHp532UndHF_",
        "colab_type": "text"
      },
      "source": [
        "<a id='op'></a>\n",
        "### Numpy Operations"
      ]
    },
    {
      "cell_type": "code",
      "metadata": {
        "id": "3JACyvqAdHGA",
        "colab_type": "code",
        "outputId": "7fee578d-f748-4086-8b98-af505251e2b9",
        "colab": {
          "base_uri": "https://localhost:8080/",
          "height": 218
        }
      },
      "source": [
        "#reshape array structures\n",
        "a=np.arange(32); print(a); print(a.ndim); print(a.shape)\n",
        "b=a.reshape(4,-1)\n",
        "print(b); print(b.ndim); print(b.shape)\n",
        "b.flatten()"
      ],
      "execution_count": 0,
      "outputs": [
        {
          "output_type": "stream",
          "text": [
            "[ 0  1  2  3  4  5  6  7  8  9 10 11 12 13 14 15 16 17 18 19 20 21 22 23\n",
            " 24 25 26 27 28 29 30 31]\n",
            "1\n",
            "(32,)\n",
            "[[ 0  1  2  3  4  5  6  7]\n",
            " [ 8  9 10 11 12 13 14 15]\n",
            " [16 17 18 19 20 21 22 23]\n",
            " [24 25 26 27 28 29 30 31]]\n",
            "2\n",
            "(4, 8)\n"
          ],
          "name": "stdout"
        },
        {
          "output_type": "execute_result",
          "data": {
            "text/plain": [
              "array([ 0,  1,  2,  3,  4,  5,  6,  7,  8,  9, 10, 11, 12, 13, 14, 15, 16,\n",
              "       17, 18, 19, 20, 21, 22, 23, 24, 25, 26, 27, 28, 29, 30, 31])"
            ]
          },
          "metadata": {
            "tags": []
          },
          "execution_count": 278
        }
      ]
    },
    {
      "cell_type": "code",
      "metadata": {
        "id": "pGXfWkendHGB",
        "colab_type": "code",
        "outputId": "b24d9909-1e15-4941-8e6e-a94be47467ef",
        "colab": {
          "base_uri": "https://localhost:8080/",
          "height": 168
        }
      },
      "source": [
        "# Indexing from 0:N-1\n",
        "print(b.size); print(b); print(b.ndim)\n",
        "print(b[:,0])  # all the rows from 1st colume\n",
        "print(b[0,:])  # all the columes from 1st row\n",
        "print(b[0,0])"
      ],
      "execution_count": 0,
      "outputs": [
        {
          "output_type": "stream",
          "text": [
            "32\n",
            "[[ 0  1  2  3  4  5  6  7]\n",
            " [ 8  9 10 11 12 13 14 15]\n",
            " [16 17 18 19 20 21 22 23]\n",
            " [24 25 26 27 28 29 30 31]]\n",
            "2\n",
            "[ 0  8 16 24]\n",
            "[0 1 2 3 4 5 6 7]\n",
            "0\n"
          ],
          "name": "stdout"
        }
      ]
    },
    {
      "cell_type": "code",
      "metadata": {
        "id": "EqimM3_CdHGD",
        "colab_type": "code",
        "outputId": "b702399b-350a-49c3-8d34-e2dd7481b08a",
        "colab": {
          "base_uri": "https://localhost:8080/",
          "height": 84
        }
      },
      "source": [
        "# Slicing:to extract part of an array [lower:upper:step]\n",
        "A = np.array([1,2,3,4,5])\n",
        "print(A[::])\n",
        "print(A[::2])\n",
        "print(A[3:])  #element from index 3\n",
        "print(A[:3])  #first 3 elements"
      ],
      "execution_count": 0,
      "outputs": [
        {
          "output_type": "stream",
          "text": [
            "[1 2 3 4 5]\n",
            "[1 3 5]\n",
            "[4 5]\n",
            "[1 2 3]\n"
          ],
          "name": "stdout"
        }
      ]
    },
    {
      "cell_type": "code",
      "metadata": {
        "id": "Nw6U2oGidHGF",
        "colab_type": "code",
        "outputId": "1f82b8f6-1e89-4a1f-f06d-993a1ed9c190",
        "colab": {
          "base_uri": "https://localhost:8080/",
          "height": 185
        }
      },
      "source": [
        "# Fancy nndexing: when an array/list is used in place of an index\n",
        "A=np.array([[n+m*10 for n in range(6)] for m in range(7)]); print(A)\n",
        "row_index=[1,2,3]\n",
        "A[row_index]\n"
      ],
      "execution_count": 0,
      "outputs": [
        {
          "output_type": "stream",
          "text": [
            "[[ 0  1  2  3  4  5]\n",
            " [10 11 12 13 14 15]\n",
            " [20 21 22 23 24 25]\n",
            " [30 31 32 33 34 35]\n",
            " [40 41 42 43 44 45]\n",
            " [50 51 52 53 54 55]\n",
            " [60 61 62 63 64 65]]\n"
          ],
          "name": "stdout"
        },
        {
          "output_type": "execute_result",
          "data": {
            "text/plain": [
              "array([[10, 11, 12, 13, 14, 15],\n",
              "       [20, 21, 22, 23, 24, 25],\n",
              "       [30, 31, 32, 33, 34, 35]])"
            ]
          },
          "metadata": {
            "tags": []
          },
          "execution_count": 281
        }
      ]
    },
    {
      "cell_type": "code",
      "metadata": {
        "id": "DLrWMjk2dHGH",
        "colab_type": "code",
        "outputId": "e9d1ee61-cdf8-4e04-cd0c-94d693d64f6c",
        "colab": {
          "base_uri": "https://localhost:8080/",
          "height": 34
        }
      },
      "source": [
        "col_index=[1,2,-1]\n",
        "A[row_index,col_index]"
      ],
      "execution_count": 0,
      "outputs": [
        {
          "output_type": "execute_result",
          "data": {
            "text/plain": [
              "array([11, 22, 35])"
            ]
          },
          "metadata": {
            "tags": []
          },
          "execution_count": 282
        }
      ]
    },
    {
      "cell_type": "code",
      "metadata": {
        "id": "0C-T-aB9dHGI",
        "colab_type": "code",
        "outputId": "d39a2ab4-9360-40cd-df32-b2b02300ec43",
        "colab": {
          "base_uri": "https://localhost:8080/",
          "height": 50
        }
      },
      "source": [
        "# Index mask\n",
        "B=np.array(range(4)); print(B)\n",
        "row_mask=np.array([True, True, False, False])\n",
        "B[row_mask]\n",
        "#row_mask2=np.array([1,1,0,0], dtype=bool)\n",
        "#B[row_mask2]"
      ],
      "execution_count": 0,
      "outputs": [
        {
          "output_type": "stream",
          "text": [
            "[0 1 2 3]\n"
          ],
          "name": "stdout"
        },
        {
          "output_type": "execute_result",
          "data": {
            "text/plain": [
              "array([0, 1])"
            ]
          },
          "metadata": {
            "tags": []
          },
          "execution_count": 283
        }
      ]
    },
    {
      "cell_type": "markdown",
      "metadata": {
        "id": "Z9ao1vBMdHGN",
        "colab_type": "text"
      },
      "source": [
        "#### Element-wise array operations"
      ]
    },
    {
      "cell_type": "code",
      "metadata": {
        "id": "cU1KFVQFdHGN",
        "colab_type": "code",
        "outputId": "cd6e0ed8-cc72-43a2-bc30-8a9658fe8953",
        "colab": {
          "base_uri": "https://localhost:8080/",
          "height": 185
        }
      },
      "source": [
        "!head stock.dat\n",
        "\n",
        "import numpy as np\n",
        "data=np.genfromtxt('stock.dat')\n",
        "#np.shape(data); print(data);print(data[:,3])\n",
        "#np.mean(data[:,3]) #temprature data\n"
      ],
      "execution_count": 0,
      "outputs": [
        {
          "output_type": "stream",
          "text": [
            "1800  1  1    -6.1    -6.1    -6.1 1\n",
            "1800  1  2   -15.4   -15.4   -15.4 1\n",
            "1800  1  3   -15.0   -15.0   -15.0 1\n",
            "1800  1  4   -19.3   -19.3   -19.3 1\n",
            "1800  1  5   -16.8   -16.8   -16.8 1\n",
            "1800  1  6   -11.4   -11.4   -11.4 1\n",
            "1800  1  7    -7.6    -7.6    -7.6 1\n",
            "1800  1  8    -7.1    -7.1    -7.1 1\n",
            "1800  1  9   -10.1   -10.1   -10.1 1\n",
            "1800  1 10    -9.5    -9.5    -9.5 1\n"
          ],
          "name": "stdout"
        }
      ]
    },
    {
      "cell_type": "code",
      "metadata": {
        "id": "EprmaIvOdHGO",
        "colab_type": "code",
        "outputId": "26020ceb-572b-4e5d-f6e1-2f4fd805fb66",
        "colab": {
          "base_uri": "https://localhost:8080/",
          "height": 34
        }
      },
      "source": [
        "#standard deviation and variance\n",
        "np.std(data[:,3]), np.var(data[:,3])  "
      ],
      "execution_count": 0,
      "outputs": [
        {
          "output_type": "execute_result",
          "data": {
            "text/plain": [
              "(8.66167312961653, 75.02458140432101)"
            ]
          },
          "metadata": {
            "tags": []
          },
          "execution_count": 287
        }
      ]
    },
    {
      "cell_type": "code",
      "metadata": {
        "id": "XqEtd6KVdHGQ",
        "colab_type": "code",
        "outputId": "7f42953a-968e-4ff6-9b5c-93d4de87d48f",
        "colab": {
          "base_uri": "https://localhost:8080/",
          "height": 34
        }
      },
      "source": [
        "#min, max\n",
        "data[:,3].min()\n"
      ],
      "execution_count": 0,
      "outputs": [
        {
          "output_type": "execute_result",
          "data": {
            "text/plain": [
              "-19.3"
            ]
          },
          "metadata": {
            "tags": []
          },
          "execution_count": 288
        }
      ]
    },
    {
      "cell_type": "markdown",
      "metadata": {
        "id": "zt4YHVYPdHGR",
        "colab_type": "text"
      },
      "source": [
        "#### Data processing\n"
      ]
    },
    {
      "cell_type": "markdown",
      "metadata": {
        "id": "lIsBwCE4dHGT",
        "colab_type": "text"
      },
      "source": [
        "<a id='plot'> </a>\n",
        "## Python Plotting\n",
        " [top](#top)"
      ]
    },
    {
      "cell_type": "markdown",
      "metadata": {
        "id": "F8s0dg0odHGT",
        "colab_type": "text"
      },
      "source": [
        "* matplotlib: library for plotting 2D graphics\n",
        "* pyplot: a wrapper module to provide Matlab-style interface to matplotlib\n",
        "* pylab: numpy plus pyplot\n"
      ]
    },
    {
      "cell_type": "code",
      "metadata": {
        "id": "gcV0Od3hdHGU",
        "colab_type": "code",
        "colab": {}
      },
      "source": [
        "import matplotlib.pyplot as plt\n",
        "import numpy as np"
      ],
      "execution_count": 0,
      "outputs": []
    },
    {
      "cell_type": "code",
      "metadata": {
        "id": "uTgHw6F1dHGV",
        "colab_type": "code",
        "outputId": "ca30ed81-d3b4-4a81-f8ff-69fa653ef5c7",
        "colab": {
          "base_uri": "https://localhost:8080/",
          "height": 446
        }
      },
      "source": [
        "# Line plot\n",
        "data=np.linspace(-np.pi, np.pi, 50); \n",
        "print(data)\n",
        "sin, cos =np.sin(data), np.cos(data)\n",
        "plt.plot(data, sin, 'b-*', data, cos,'r-s')\n",
        "plt.title(\"plot example\")\n",
        "plt.xlabel('x')\n",
        "plt.ylabel('sin/con')\n",
        "#figure legend\n",
        "plt.legend(['sin','cos'])\n",
        "plt.show()\n"
      ],
      "execution_count": 0,
      "outputs": [
        {
          "output_type": "stream",
          "text": [
            "[-3.14159265 -3.01336438 -2.88513611 -2.75690784 -2.62867957 -2.5004513\n",
            " -2.37222302 -2.24399475 -2.11576648 -1.98753821 -1.85930994 -1.73108167\n",
            " -1.60285339 -1.47462512 -1.34639685 -1.21816858 -1.08994031 -0.96171204\n",
            " -0.83348377 -0.70525549 -0.57702722 -0.44879895 -0.32057068 -0.19234241\n",
            " -0.06411414  0.06411414  0.19234241  0.32057068  0.44879895  0.57702722\n",
            "  0.70525549  0.83348377  0.96171204  1.08994031  1.21816858  1.34639685\n",
            "  1.47462512  1.60285339  1.73108167  1.85930994  1.98753821  2.11576648\n",
            "  2.24399475  2.37222302  2.5004513   2.62867957  2.75690784  2.88513611\n",
            "  3.01336438  3.14159265]\n"
          ],
          "name": "stdout"
        },
        {
          "output_type": "display_data",
          "data": {
            "image/png": "[encoded data removed]",
            "text/plain": [
              "<Figure size 432x288 with 1 Axes>"
            ]
          },
          "metadata": {
            "tags": []
          }
        }
      ]
    },
    {
      "cell_type": "code",
      "metadata": {
        "id": "35br7VgfdHGW",
        "colab_type": "code",
        "outputId": "afa9681e-9458-4d71-ad10-c3528a856f43",
        "colab": {
          "base_uri": "https://localhost:8080/",
          "height": 521
        }
      },
      "source": [
        "#plotting separate figures\n",
        "plt.figure()\n",
        "plt.plot(sin, 'r*', label='sin')\n",
        "plt.legend()\n",
        "#2nd figure\n",
        "plt.figure()\n",
        "plt.plot(cos, 'b+', label='cos')\n",
        "plt.legend()\n",
        "#plt.clf()\n",
        "plt.show()\n",
        "plt.close('all')\n"
      ],
      "execution_count": 0,
      "outputs": [
        {
          "output_type": "display_data",
          "data": {
            "image/png": "[encoded data removed]",
            "text/plain": [
              "<Figure size 432x288 with 1 Axes>"
            ]
          },
          "metadata": {
            "tags": []
          }
        },
        {
          "output_type": "display_data",
          "data": {
            "image/png": "[encoded data removed]",
            "text/plain": [
              "<Figure size 432x288 with 1 Axes>"
            ]
          },
          "metadata": {
            "tags": []
          }
        }
      ]
    },
    {
      "cell_type": "code",
      "metadata": {
        "id": "O7JNA_KndHGX",
        "colab_type": "code",
        "outputId": "513bfc2b-cc10-477b-d50f-473253efb2f2",
        "colab": {
          "base_uri": "https://localhost:8080/",
          "height": 269
        }
      },
      "source": [
        "# subplot on the same figure\n",
        "# subplot(rows, columns, active_plot)\n",
        "plt.subplot(2,1,1)\n",
        "plt.plot(sin, 'r-+', label='sin')\n",
        "plt.legend()\n",
        "#2nd subplot\n",
        "plt.subplot(2,1,2)\n",
        "plt.plot(cos, 'b-o')\n",
        "#plt.close()\n",
        "plt.show()"
      ],
      "execution_count": 0,
      "outputs": [
        {
          "output_type": "display_data",
          "data": {
            "image/png": "[encoded data removed]",
            "text/plain": [
              "<Figure size 432x288 with 2 Axes>"
            ]
          },
          "metadata": {
            "tags": []
          }
        }
      ]
    },
    {
      "cell_type": "code",
      "metadata": {
        "id": "vkXjWnr_dHGZ",
        "colab_type": "code",
        "outputId": "90ecb71e-d977-444a-ede1-6daf9c1b4d0c",
        "colab": {
          "base_uri": "https://localhost:8080/",
          "height": 295
        }
      },
      "source": [
        "# Plot a bar chart\n",
        "import matplotlib.pyplot as plt\n",
        "import numpy as np\n",
        "\n",
        "xlables = ['January','February','March','April']\n",
        "xticks = [i for i in range(len(xlables))]\n",
        "y = [ 34, 17, 13, 69]\n",
        "e = [5.2, 10., 1.5, 12.]\n",
        "plt.errorbar(xlables, y, yerr=e, fmt='d', capsize=10)\n",
        "plt.bar(xlables, y, 0.5, color='red' )\n",
        "plt.title(\"Sale by Month\")\n",
        "plt.xlabel('Month')\n",
        "plt.ylabel('Sale')\n",
        "plt.xticks(xticks, xlables)\n",
        "\n",
        "plt.show()"
      ],
      "execution_count": 0,
      "outputs": [
        {
          "output_type": "display_data",
          "data": {
            "image/png": "[encoded data removed]",
            "text/plain": [
              "<Figure size 432x288 with 1 Axes>"
            ]
          },
          "metadata": {
            "tags": []
          }
        }
      ]
    },
    {
      "cell_type": "code",
      "metadata": {
        "id": "g0mPPGBbdHGa",
        "colab_type": "code",
        "outputId": "2de77da3-815f-490e-c75e-37cd2152a9e6",
        "colab": {
          "base_uri": "https://localhost:8080/",
          "height": 504
        }
      },
      "source": [
        "import matplotlib.pyplot as plt\n",
        "import numpy as np\n",
        "a=[i for i in range(8)]\n",
        "x = np.random.randn(5, 8)\n",
        "mins = x.min(0)\n",
        "maxes = x.max(0)\n",
        "means = x.mean(0)\n",
        "std = x.std(0)\n",
        "print(x)\n",
        "print(means); print(\"std:\",std)\n",
        "plt.bar(a, means)\n",
        "plt.errorbar(a, means, yerr=std, fmt='v')\n",
        "plt.show()"
      ],
      "execution_count": 0,
      "outputs": [
        {
          "output_type": "stream",
          "text": [
            "[[-0.85401556  1.63409952  0.11534154  1.11082517 -0.33768856  1.28874248\n",
            "  -0.00297442 -0.10125549]\n",
            " [-1.7630361   1.00729553  1.16933421 -0.06091489  1.15650268  0.73995607\n",
            "  -1.7473605  -1.54471062]\n",
            " [-1.07180621  1.49167992 -0.41200773  1.12553016  0.29859715  0.38041598\n",
            "  -0.36082734 -0.39092469]\n",
            " [ 0.11715025 -0.04739192 -1.17096195  1.08395238  0.33121703 -0.95977451\n",
            "   0.25701258  0.76141996]\n",
            " [ 0.26252893  0.78199146  0.25874634 -0.20118117 -0.59056392 -0.1575423\n",
            "   0.58816339 -0.9843811 ]]\n",
            "[-0.66183574  0.9735349  -0.00790952  0.61164233  0.17161288  0.25835955\n",
            " -0.25319726 -0.45197039]\n",
            "std: [0.75880437 0.59748475 0.77306989 0.60817041 0.60858982 0.77010998\n",
            " 0.80931098 0.78442157]\n"
          ],
          "name": "stdout"
        },
        {
          "output_type": "display_data",
          "data": {
            "image/png": "[encoded data removed]",
            "text/plain": [
              "<Figure size 432x288 with 1 Axes>"
            ]
          },
          "metadata": {
            "tags": []
          }
        }
      ]
    },
    {
      "cell_type": "code",
      "metadata": {
        "id": "RmU8_p-IdHGc",
        "colab_type": "code",
        "outputId": "f49b694c-464f-41f9-dc3d-635a96cd017a",
        "colab": {
          "base_uri": "https://localhost:8080/",
          "height": 448
        }
      },
      "source": [
        "# Plot histograph\n",
        "import matplotlib\n",
        "import numpy as np\n",
        "import matplotlib.pyplot as plt\n",
        "\n",
        "np.random.seed(20)\n",
        "\n",
        "# example data\n",
        "mu = 100  # mean of distribution\n",
        "sigma = 15  # standard deviation of distribution\n",
        "x = mu + sigma * np.random.randn(474)\n",
        "#print(x)\n",
        "num_bins = 50\n",
        "\n",
        "fig, ax = plt.subplots()\n",
        "\n",
        "# the histogram of the data\n",
        "#help(ax.hist)\n",
        "a, bins, b = ax.hist(x, num_bins, density=1)\n",
        "print(\"a=\",a)\n",
        "# add a 'best fit' line\n",
        "y = ((1 / (np.sqrt(2 * np.pi) * sigma)) *\n",
        "     np.exp(-0.5 * (1 / sigma * (bins - mu))**2))\n",
        "\n",
        "ax.plot(bins, y, '--')\n",
        "ax.set_xlabel('Smarts')\n",
        "ax.set_ylabel('Probability density')\n",
        "ax.set_title(r'Histogram of IQ: $\\mu=100$, $\\sigma=15$')\n",
        "\n",
        "# Tweak spacing to prevent clipping of ylabel\n",
        "#plt.tight_layout()\n",
        "plt.show()"
      ],
      "execution_count": 0,
      "outputs": [
        {
          "output_type": "stream",
          "text": [
            "a= [0.00130663 0.         0.         0.         0.00130663 0.\n",
            " 0.00261326 0.00130663 0.         0.         0.00261326 0.00653316\n",
            " 0.00261326 0.00261326 0.01175968 0.01306632 0.01045305 0.00653316\n",
            " 0.00783979 0.02090611 0.02221274 0.024826   0.01567958 0.01829284\n",
            " 0.01306632 0.02351937 0.02351937 0.03005253 0.03005253 0.02743926\n",
            " 0.02221274 0.02090611 0.02743926 0.024826   0.024826   0.01829284\n",
            " 0.01437295 0.01567958 0.02090611 0.01437295 0.01959947 0.01437295\n",
            " 0.01567958 0.01698621 0.00522653 0.00130663 0.00783979 0.00653316\n",
            " 0.00391989 0.00391989]\n"
          ],
          "name": "stdout"
        },
        {
          "output_type": "display_data",
          "data": {
            "image/png": "[encoded data removed]",
            "text/plain": [
              "<Figure size 432x288 with 1 Axes>"
            ]
          },
          "metadata": {
            "tags": []
          }
        }
      ]
    },
    {
      "cell_type": "code",
      "metadata": {
        "id": "rJ4oDc_grKaG",
        "colab_type": "code",
        "outputId": "346dcefc-bcdd-40b4-8323-29a58a81753a",
        "colab": {
          "base_uri": "https://localhost:8080/",
          "height": 34
        }
      },
      "source": [
        "! if [ ! -f \"scan.png\" ]; then wget 'https://raw.githubusercontent.com/lsuhpchelp/lbrnloniworkshop2018/master/day1_python/scan.png'; else echo 'file exists'; fi;"
      ],
      "execution_count": 0,
      "outputs": [
        {
          "output_type": "stream",
          "text": [
            "file exists\n"
          ],
          "name": "stdout"
        }
      ]
    },
    {
      "cell_type": "code",
      "metadata": {
        "id": "GF3Ebu8TdHGd",
        "colab_type": "code",
        "outputId": "100d56ec-98ba-48ad-c3db-7190a6478991",
        "colab": {
          "base_uri": "https://localhost:8080/",
          "height": 437
        }
      },
      "source": [
        "# View an image\n",
        "!ls -l\n",
        "\n",
        "image = plt.imread('scan.png')\n",
        "\n",
        "fig, ax = plt.subplots()\n",
        "ax.imshow(image)\n",
        "ax.axis('off')  # clear x- and y-axes\n"
      ],
      "execution_count": 0,
      "outputs": [
        {
          "output_type": "stream",
          "text": [
            "total 104\n",
            "-rw-r--r-- 1 root root   630 May 13 14:39 data.txt\n",
            "-rw-r--r-- 1 root root   630 May 13 14:40 data.txt.1\n",
            "-rw-r--r-- 1 root root   128 May 13 16:06 random_m.csv\n",
            "drwxr-xr-x 3 root root  4096 May 13 13:56 raw.githubusercontent.com\n",
            "drwxr-xr-x 1 root root  4096 May  8 16:22 sample_data\n",
            "-rw-r--r-- 1 root root 72295 May 13 14:51 scan.png\n",
            "-rw-r--r-- 1 root root  7992 May 13 14:49 stock.dat\n",
            "-rw-r--r-- 1 root root    17 May 13 16:05 write.txt\n"
          ],
          "name": "stdout"
        },
        {
          "output_type": "execute_result",
          "data": {
            "text/plain": [
              "(-0.5, 639.5, 479.5, -0.5)"
            ]
          },
          "metadata": {
            "tags": []
          },
          "execution_count": 297
        },
        {
          "output_type": "display_data",
          "data": {
            "image/png": "[encoded data removed]",
            "text/plain": [
              "<Figure size 432x288 with 1 Axes>"
            ]
          },
          "metadata": {
            "tags": []
          }
        }
      ]
    },
    {
      "cell_type": "code",
      "metadata": {
        "id": "4ULjgwxwdHGe",
        "colab_type": "code",
        "colab": {}
      },
      "source": [
        ""
      ],
      "execution_count": 0,
      "outputs": []
    }
  ]
}